{
  "cells": [
    {
      "cell_type": "markdown",
      "id": "295b9adb",
      "metadata": {
        "id": "295b9adb"
      },
      "source": [
        "# 1-Librairies"
      ]
    },
    {
      "cell_type": "code",
      "execution_count": 93,
      "id": "717e54e3",
      "metadata": {
        "id": "717e54e3"
      },
      "outputs": [],
      "source": [
        "# Dataset\n",
        "import kagglehub\n",
        "\n",
        "# Standard libraries\n",
        "import os\n",
        "import matplotlib.pyplot as plt\n",
        "import numpy as np\n",
        "import pandas as pd\n",
        "import tqdm as notebook_tqdm\n",
        "from PIL import Image\n",
        "import glob\n",
        "\n",
        "# tensorflow libraries\n",
        "import tensorflow as tf\n",
        "from tensorflow.keras import callbacks\n",
        "from tensorflow.keras.applications import VGG19\n",
        "# keras libraries\n",
        "from keras.optimizers import Adam\n",
        "\n",
        "# scikit-learn libraries\n",
        "from sklearn.model_selection import train_test_split\n",
        "from sklearn.metrics import classification_report\n",
        "\n",
        "# Suppression des warnings\n",
        "import warnings\n",
        "warnings.filterwarnings(\"ignore\")"
      ]
    },
    {
      "cell_type": "markdown",
      "id": "6d0fec21",
      "metadata": {
        "id": "6d0fec21"
      },
      "source": [
        "# 2-Dataset"
      ]
    },
    {
      "cell_type": "code",
      "execution_count": 94,
      "id": "d7806030",
      "metadata": {
        "colab": {
          "base_uri": "https://localhost:8080/"
        },
        "id": "d7806030",
        "outputId": "c32d34ef-c70e-4867-c5fd-ca75e4e17da2"
      },
      "outputs": [
        {
          "name": "stdout",
          "output_type": "stream",
          "text": [
            "Chemin d'accés du dossier du Dataset: C:\\Users\\mgraz\\.cache\\kagglehub\\datasets\\masoudnickparvar\\brain-tumor-mri-dataset\\versions\\1\n",
            "Class names: ['glioma', 'meningioma', 'notumor', 'pituitary']\n",
            "Binary class names: {'glioma': 'Tumeur', 'meningioma': 'Tumeur', 'notumor': 'Sain', 'pituitary': 'Tumeur'}\n"
          ]
        }
      ],
      "source": [
        "# Téléchargement du dataset depuis Kaggle\n",
        "path = kagglehub.dataset_download(\"masoudnickparvar/brain-tumor-mri-dataset\")\n",
        "print(\"Chemin d'accés du dossier du Dataset:\", path)\n",
        "\n",
        "# Classification des images de tumeurs cérébrales\n",
        "class_names = ['glioma', 'meningioma', 'notumor', 'pituitary']\n",
        "# Affichage des noms de classes\n",
        "print(\"Class names:\", class_names)\n",
        "\n",
        "# Convertir les noms de classes en binaire\n",
        "# Ici, nous considérons 'notumor' comme 'Sain' et les autres comme 'Tumeur'\n",
        "binary_class_names = ['Sain' if name == 'notumor' else 'Tumeur' for name in class_names]\n",
        "\n",
        "# Affichage des noms de classes binaires\n",
        "binary_class_names = dict(zip(class_names, binary_class_names))\n",
        "print(\"Binary class names:\", binary_class_names)"
      ]
    },
    {
      "cell_type": "markdown",
      "id": "4bc4f048",
      "metadata": {
        "id": "4bc4f048"
      },
      "source": [
        "## 2.1-Dataset Entrainement"
      ]
    },
    {
      "cell_type": "code",
      "execution_count": 95,
      "id": "abb73fa0",
      "metadata": {
        "id": "abb73fa0"
      },
      "outputs": [
        {
          "name": "stdout",
          "output_type": "stream",
          "text": [
            "Nombre d'images dans le dataset d'entraînement: 5712\n"
          ]
        }
      ],
      "source": [
        "# Création de train_df à partir du dossier Training\n",
        "train_images = []\n",
        "train_binary_class_names = []\n",
        "\n",
        "# Parcours des images dans le dossier Training\n",
        "train_dir = os.path.join(path, 'Training')\n",
        "for category in binary_class_names:\n",
        "\tcategory_path = os.path.join(train_dir, category)\n",
        "\tfor img_name in os.listdir(category_path):\n",
        "\t\ttrain_images.append(os.path.join(category_path, img_name))\n",
        "\t\ttrain_binary_class_names.append(binary_class_names[category])\n",
        "# Affichage du nombre d'images dans le dataset d'entraînement\n",
        "print(\"Nombre d'images dans le dataset d'entraînement:\", len(train_images))\n",
        "# Création du DataFrame train_df\n",
        "train_df = pd.DataFrame({\"image_path\": train_images, \"label\": train_binary_class_names})\n",
        "\n",
        "X_train = train_df[\"image_path\"].values\n",
        "y_train = train_df[\"label\"].values"
      ]
    },
    {
      "cell_type": "markdown",
      "id": "27c7cc2a",
      "metadata": {
        "id": "27c7cc2a"
      },
      "source": [
        "## 2.2-Dataset Test"
      ]
    },
    {
      "cell_type": "code",
      "execution_count": 96,
      "id": "b895aec4",
      "metadata": {
        "id": "b895aec4"
      },
      "outputs": [
        {
          "name": "stdout",
          "output_type": "stream",
          "text": [
            "Nombre d'images dans le dataset d'entraînement: 1311\n"
          ]
        }
      ],
      "source": [
        "# Création de test_df à partir du dossier Testing\n",
        "test_images = []\n",
        "test_binary_class_names = []\n",
        "\n",
        "# Parcours des images dans le dossier Testing\n",
        "test_dir = os.path.join(path, 'Testing')\n",
        "for category in class_names:\n",
        "\tcategory_path = os.path.join(test_dir, category)\n",
        "\tfor img_name in os.listdir(category_path):\n",
        "\t\ttest_images.append(os.path.join(category_path, img_name))\n",
        "\t\ttest_binary_class_names.append(binary_class_names[category])\n",
        "\n",
        "# Affichage du nombre d'images dans le dataset d'entraînement\n",
        "print(\"Nombre d'images dans le dataset d'entraînement:\", len(test_images))\n",
        "# Création du DataFrame train_df\n",
        "test_df = pd.DataFrame({\"image_path\": test_images, \"label\": test_binary_class_names})\n",
        "\n",
        "X_test = test_df[\"image_path\"].values\n",
        "y_test = test_df[\"label\"].values"
      ]
    },
    {
      "cell_type": "markdown",
      "id": "101c85f3",
      "metadata": {},
      "source": [
        "## 2.3-Dataset de Validation"
      ]
    },
    {
      "cell_type": "code",
      "execution_count": 97,
      "id": "12aa4d78",
      "metadata": {},
      "outputs": [
        {
          "name": "stdout",
          "output_type": "stream",
          "text": [
            "Nombre d'images par classes dans le dataset de test: label\n",
            "Tumeur    1235\n",
            "Sain       479\n",
            "Name: count, dtype: int64\n"
          ]
        }
      ],
      "source": [
        "# Creation d'un dataset de validation\n",
        "X_train, X_val, y_train, y_val = train_test_split(\n",
        "    train_df[\"image_path\"].to_numpy(),\n",
        "    train_df[\"label\"].to_numpy(),\n",
        "    train_size=0.7,  # 80% des données pour l'entraînement\n",
        "    test_size=0.3,   # 20% des données pour la validation\n",
        "    random_state=42,\n",
        "    stratify=train_df[\"label\"],\n",
        ")\n",
        "val_df = pd.DataFrame({'image_path': X_val, 'label': y_val})\n",
        "\n",
        "# Affichage du nombre d'images par classes dans le dataset de validation\n",
        "print(\"Nombre d'images par classes dans le dataset de test:\", val_df['label'].value_counts())"
      ]
    },
    {
      "cell_type": "markdown",
      "id": "29cd1165",
      "metadata": {
        "id": "29cd1165"
      },
      "source": [
        "# 3-Preprocessing"
      ]
    },
    {
      "cell_type": "markdown",
      "id": "1de75704",
      "metadata": {
        "id": "1de75704"
      },
      "source": [
        "## 3.1-Paramêtres"
      ]
    },
    {
      "cell_type": "code",
      "execution_count": 98,
      "id": "8dd85b13",
      "metadata": {
        "id": "8dd85b13"
      },
      "outputs": [],
      "source": [
        "# Creation des hyperparamètres\n",
        "def create_params():\n",
        "    return {\n",
        "        'batch_size': 32,  # Taille du batch\n",
        "        'image_size': (224, 224),  # Taille des images pour VGG19\n",
        "        'input_shape': (224, 224, 3),  # Forme d'entrée pour les images RGB\n",
        "        'epochs': 20,  # Nombre d'époques pour l'entraînement\n",
        "        'learning_rate': 0.0001,  # Taux d'apprentissage pour l'optimiseur\n",
        "    }\n",
        "\n",
        "params = create_params()"
      ]
    },
    {
      "cell_type": "markdown",
      "id": "655baf2d",
      "metadata": {
        "id": "655baf2d"
      },
      "source": [
        "## 3.2-ImageDataGenerator"
      ]
    },
    {
      "cell_type": "code",
      "execution_count": 99,
      "id": "01fc1f58",
      "metadata": {
        "colab": {
          "base_uri": "https://localhost:8080/"
        },
        "id": "01fc1f58",
        "outputId": "d6a30a27-a464-4e6c-d6f0-7d165d8e9359"
      },
      "outputs": [],
      "source": [
        "# Création d'un ImageDataGenerator pour l'augmentation des données d'entraînement \n",
        "def create_datagen():\n",
        "    \"\"\"\n",
        "    Crée un ImageDataGenerator pour l'augmentation des données d'entraînement.\n",
        "    \"\"\"\n",
        "    return tf.keras.preprocessing.image.ImageDataGenerator(\n",
        "        horizontal_flip=True,         # Retourner les images horizontalement\n",
        "        rotation_range=10,            # Rotation aléatoire des images\n",
        "        zoom_range=0.1,               # Zoom aléatoire des images\n",
        "        width_shift_range=0.1,        # Décalage horizontal aléatoire\n",
        "        height_shift_range=0.1,       # Décalage vertical aléatoire\n",
        "        rescale=1/255,                # Normalisation des pixels entre 0 et 1\n",
        "        brightness_range=(0.8, 1.2)   # Changement de la luminosité des images\n",
        "    )\n",
        "datagen = create_datagen()"
      ]
    },
    {
      "cell_type": "markdown",
      "id": "2ee2e5fb",
      "metadata": {},
      "source": [
        "## 3.3- Equilibrage du dataset d'entrainement"
      ]
    },
    {
      "cell_type": "code",
      "execution_count": 100,
      "id": "d24bc47d",
      "metadata": {},
      "outputs": [
        {
          "name": "stdout",
          "output_type": "stream",
          "text": [
            "Nombre d'images dans le train_df: 5712\n",
            "Nombre d'images par classes dans le dataset de train: label\n",
            "Tumeur    4117\n",
            "Sain      1595\n",
            "Name: count, dtype: int64\n"
          ]
        }
      ],
      "source": [
        "# Affichage du nombre d'images dans le DataFrame train_df\n",
        "print(\"Nombre d'images dans le train_df:\", len(train_df))\n",
        "# Affichage du nombre d'images par classes dans le dataset d'entraînement\n",
        "print(\"Nombre d'images par classes dans le dataset de train:\", train_df['label'].value_counts())"
      ]
    },
    {
      "cell_type": "markdown",
      "id": "3a4fc691",
      "metadata": {},
      "source": [
        "### 3.3.1-Séparation du label en 2 sous-classes"
      ]
    },
    {
      "cell_type": "code",
      "execution_count": 101,
      "id": "f730263e",
      "metadata": {},
      "outputs": [
        {
          "name": "stdout",
          "output_type": "stream",
          "text": [
            "Nombre d'images 'Sain': 1595\n",
            "Nombre d'images 'Tumeur': 4117\n"
          ]
        }
      ],
      "source": [
        "# Filtrage des images 'Sain' dans le DataFrame train_df\n",
        "notumor_train_df = train_df[train_df['label'] == 'Sain']\n",
        "# Filtrage des images 'Tumeur' dans le DataFrame train_df\n",
        "# Ici, nous considérons 'Tumeur' comme toutes les autres classes sauf 'Sain\n",
        "tumor_train_df = train_df[train_df['label'] == 'Tumeur']\n",
        "\n",
        "# Affichage du nombre d'images dans le DataFrame filtré\n",
        "print(\"Nombre d'images 'Sain':\", len(notumor_train_df))\n",
        "print(\"Nombre d'images 'Tumeur':\", len(tumor_train_df))"
      ]
    },
    {
      "cell_type": "markdown",
      "id": "af6d022c",
      "metadata": {},
      "source": [
        "### 3.3.2-Augmentation de la classe minoritaire"
      ]
    },
    {
      "cell_type": "code",
      "execution_count": 102,
      "id": "0c104b79",
      "metadata": {},
      "outputs": [
        {
          "name": "stdout",
          "output_type": "stream",
          "text": [
            "Nombre d'images 'Sain' dans le train_df: 1595\n",
            "Nombre d'images augmentées 'Sain': 4785\n",
            "Nombre d'images dans le DataFrame d'entrainement après augmentation: 8902\n"
          ]
        }
      ],
      "source": [
        "# Appliquer l'augmentation des données uniquement sur les images 'Sain'\n",
        "notumor_train_df_datagen_images = []\n",
        "# \n",
        "for x in notumor_train_df['image_path'].values:\n",
        "    # Charger l'image, la redimensionner et la convertir en array\n",
        "    img = tf.keras.utils.load_img(x, target_size=params['image_size'])\n",
        "    img_array = tf.keras.utils.img_to_array(img)\n",
        "    img_array = img_array.reshape((1,) + img_array.shape)  # nécessaire pour ImageDataGenerator\n",
        "    for i, batch in enumerate(datagen.flow(img_array, batch_size=1)):\n",
        "        notumor_train_df_datagen_images.append(batch[0])\n",
        "        if i >= 2:  # 1 augmentations par image\n",
        "            break\n",
        "X_class1_aug = np.array(notumor_train_df_datagen_images)\n",
        "\n",
        "# Affichage du nombre d'images augmentées et du DataFrame d'entrainement\n",
        "print(\"Nombre d'images 'Sain' dans le train_df:\", len(notumor_train_df))\n",
        "print(\"Nombre d'images augmentées 'Sain':\", len(X_class1_aug))\n",
        "print(\"Nombre d'images dans le DataFrame d'entrainement après augmentation:\", len(tumor_train_df) + len(X_class1_aug))"
      ]
    },
    {
      "cell_type": "markdown",
      "id": "e9a75912",
      "metadata": {},
      "source": [
        "### 3.3.3-Création du dataset d'entrainement augmenté"
      ]
    },
    {
      "cell_type": "code",
      "execution_count": 103,
      "id": "6f75d9dd",
      "metadata": {},
      "outputs": [
        {
          "name": "stdout",
          "output_type": "stream",
          "text": [
            "Nombre d'images dans le dataset d'entraînement augmenté: 8902\n",
            "Nombre d'images par classes dans le dataset d'entraînement augmenté: label\n",
            "Sain      4785\n",
            "Tumeur    4117\n",
            "Name: count, dtype: int64\n"
          ]
        }
      ],
      "source": [
        "# Création du DataFrame d'entrainement avec les images augmentées\n",
        "augmented_notumor_paths = notumor_train_df_datagen_images\n",
        "augmented_notumor_labels = ['Sain'] * len(augmented_notumor_paths)\n",
        "\n",
        "# On garde les images \"Tumeur\" telles quelles\n",
        "tumor_paths = list(tumor_train_df['image_path'].values)\n",
        "tumor_labels = ['Tumeur'] * len(tumor_paths)\n",
        "\n",
        "# On concatène les deux listes\n",
        "train_augmented_images = tumor_paths + augmented_notumor_paths\n",
        "train_aug_binary_class_names = tumor_labels + augmented_notumor_labels\n",
        "\n",
        "# Affichage du nombre d'images dans le dataset d'entraînement\n",
        "print(\"Nombre d'images dans le dataset d'entraînement augmenté:\", len(train_augmented_images))\n",
        "\n",
        "# Création du DataFrame train_df_augmented\n",
        "train_df_augmented = pd.DataFrame({\"image_path\": train_augmented_images, \"label\": train_aug_binary_class_names})\n",
        "X_train = train_df_augmented[\"image_path\"].values\n",
        "y_train = train_df_augmented[\"label\"].values\n",
        "\n",
        "# Sauvegarde du dataset augmenté\n",
        "output_path = \"./train_df_augmented\"\n",
        "notumor_path = os.path.join(output_path, \"Sain\")\n",
        "tumor_path = os.path.join(output_path, \"Tumeur\")\n",
        "\n",
        "os.makedirs(notumor_path, exist_ok=True)\n",
        "os.makedirs(tumor_path, exist_ok=True)\n",
        "os.makedirs(output_path, exist_ok=True)\n",
        "\n",
        "for i, img_array in enumerate(augmented_notumor_paths):\n",
        "    img = Image.fromarray(img_array.astype(np.uint8))\n",
        "    img.save(os.path.join(notumor_path, f\"notumor{i}.png\"))\n",
        "\n",
        "for i, img_path in enumerate(tumor_paths):\n",
        "    img = Image.open(img_path)\n",
        "    img = img.resize(params['image_size'])\n",
        "    img.save(os.path.join(tumor_path, f\"tumor{i}.png\"))\n",
        "\n",
        "print(\"Nombre d'images par classes dans le dataset d'entraînement augmenté:\", train_df_augmented['label'].value_counts())"
      ]
    },
    {
      "cell_type": "markdown",
      "id": "ad0a0a7c",
      "metadata": {},
      "source": [
        "## 3.4-Création des dataset ImageDataGenerator"
      ]
    },
    {
      "cell_type": "code",
      "execution_count": 104,
      "id": "dcd14bd9",
      "metadata": {},
      "outputs": [
        {
          "name": "stdout",
          "output_type": "stream",
          "text": [
            "Found 8902 validated image filenames belonging to 2 classes.\n",
            "Found 1714 validated image filenames belonging to 2 classes.\n",
            "Found 1311 validated image filenames belonging to 2 classes.\n"
          ]
        }
      ],
      "source": [
        "# Correction: Utiliser uniquement les chemins d'accès (strings) pour le DataFrame d'entraînement augmenté\n",
        "\n",
        "# Récupérer tous les chemins d'images et labels depuis le dossier output_path\n",
        "sain_image_paths = sorted(glob.glob(os.path.join(output_path, \"Sain\", \"*.png\")))\n",
        "tumeur_image_paths = sorted(glob.glob(os.path.join(output_path, \"Tumeur\", \"*.png\")))\n",
        "\n",
        "train_augmented_filepaths = sain_image_paths + tumeur_image_paths\n",
        "train_augmented_labels = [\"Sain\"] * len(sain_image_paths) + [\"Tumeur\"] * len(tumeur_image_paths)\n",
        "\n",
        "train_augmented_df = pd.DataFrame({\n",
        "    \"image_path\": train_augmented_filepaths,\n",
        "    \"label\": train_augmented_labels\n",
        "})\n",
        "\n",
        "# Création du générateur pour les données d'entraînement augmenté\n",
        "train_augmented_datagen = datagen.flow_from_dataframe(\n",
        "    train_augmented_df,\n",
        "    x_col='image_path',\n",
        "    y_col='label',\n",
        "    target_size=params['image_size'],\n",
        "    batch_size=params['batch_size'],\n",
        "    class_mode='binary'\n",
        ")\n",
        "\n",
        "# Création du générateur pour les données de validation\n",
        "val_datagen = datagen.flow_from_dataframe(\n",
        "    val_df,\n",
        "    x_col='image_path',\n",
        "    y_col='label',\n",
        "    target_size=params['image_size'],\n",
        "    batch_size=params['batch_size'],\n",
        "    class_mode='binary'\n",
        ")\n",
        "\n",
        "# Création du générateur pour les données de test\n",
        "test_datagen = datagen.flow_from_dataframe(\n",
        "    test_df,\n",
        "    x_col='image_path',\n",
        "    y_col='label',\n",
        "    target_size=params['image_size'],\n",
        "    batch_size=params['batch_size'],\n",
        "    class_mode='binary',\n",
        "    shuffle=False\n",
        ")"
      ]
    },
    {
      "cell_type": "markdown",
      "id": "effcf5a7",
      "metadata": {
        "id": "effcf5a7"
      },
      "source": [
        "# 4-CNN (Réseau Convolutif)"
      ]
    },
    {
      "cell_type": "markdown",
      "id": "3cb1e4d6",
      "metadata": {
        "id": "3cb1e4d6"
      },
      "source": [
        "## 4.1-Création du modèle "
      ]
    },
    {
      "cell_type": "code",
      "execution_count": 105,
      "id": "3e09614c",
      "metadata": {
        "colab": {
          "base_uri": "https://localhost:8080/",
          "height": 718
        },
        "id": "3e09614c",
        "outputId": "acad1f67-3ebc-4bd2-e8df-59430af88423"
      },
      "outputs": [
        {
          "name": "stdout",
          "output_type": "stream",
          "text": [
            "Nombre de couches: 22\n",
            "Forme de sortie: (None, 7, 7, 512)\n",
            "Couches gelées: True\n",
            "Construction de l'architecture complète...\n",
            "Modèle créé avec succès !\n",
            " Architecture du modèle:\n"
          ]
        },
        {
          "data": {
            "text/html": [
              "<pre style=\"white-space:pre;overflow-x:auto;line-height:normal;font-family:Menlo,'DejaVu Sans Mono',consolas,'Courier New',monospace\"><span style=\"font-weight: bold\">Model: \"functional_1\"</span>\n",
              "</pre>\n"
            ],
            "text/plain": [
              "\u001b[1mModel: \"functional_1\"\u001b[0m\n"
            ]
          },
          "metadata": {},
          "output_type": "display_data"
        },
        {
          "data": {
            "text/html": [
              "<pre style=\"white-space:pre;overflow-x:auto;line-height:normal;font-family:Menlo,'DejaVu Sans Mono',consolas,'Courier New',monospace\">┏━━━━━━━━━━━━━━━━━━━━━━━━━━━━━━━━━┳━━━━━━━━━━━━━━━━━━━━━━━━┳━━━━━━━━━━━━━━━┓\n",
              "┃<span style=\"font-weight: bold\"> Layer (type)                    </span>┃<span style=\"font-weight: bold\"> Output Shape           </span>┃<span style=\"font-weight: bold\">       Param # </span>┃\n",
              "┡━━━━━━━━━━━━━━━━━━━━━━━━━━━━━━━━━╇━━━━━━━━━━━━━━━━━━━━━━━━╇━━━━━━━━━━━━━━━┩\n",
              "│ input_layer_1 (<span style=\"color: #0087ff; text-decoration-color: #0087ff\">InputLayer</span>)      │ (<span style=\"color: #00d7ff; text-decoration-color: #00d7ff\">None</span>, <span style=\"color: #00af00; text-decoration-color: #00af00\">224</span>, <span style=\"color: #00af00; text-decoration-color: #00af00\">224</span>, <span style=\"color: #00af00; text-decoration-color: #00af00\">3</span>)    │             <span style=\"color: #00af00; text-decoration-color: #00af00\">0</span> │\n",
              "├─────────────────────────────────┼────────────────────────┼───────────────┤\n",
              "│ block1_conv1 (<span style=\"color: #0087ff; text-decoration-color: #0087ff\">Conv2D</span>)           │ (<span style=\"color: #00d7ff; text-decoration-color: #00d7ff\">None</span>, <span style=\"color: #00af00; text-decoration-color: #00af00\">224</span>, <span style=\"color: #00af00; text-decoration-color: #00af00\">224</span>, <span style=\"color: #00af00; text-decoration-color: #00af00\">64</span>)   │         <span style=\"color: #00af00; text-decoration-color: #00af00\">1,792</span> │\n",
              "├─────────────────────────────────┼────────────────────────┼───────────────┤\n",
              "│ block1_conv2 (<span style=\"color: #0087ff; text-decoration-color: #0087ff\">Conv2D</span>)           │ (<span style=\"color: #00d7ff; text-decoration-color: #00d7ff\">None</span>, <span style=\"color: #00af00; text-decoration-color: #00af00\">224</span>, <span style=\"color: #00af00; text-decoration-color: #00af00\">224</span>, <span style=\"color: #00af00; text-decoration-color: #00af00\">64</span>)   │        <span style=\"color: #00af00; text-decoration-color: #00af00\">36,928</span> │\n",
              "├─────────────────────────────────┼────────────────────────┼───────────────┤\n",
              "│ block1_pool (<span style=\"color: #0087ff; text-decoration-color: #0087ff\">MaxPooling2D</span>)      │ (<span style=\"color: #00d7ff; text-decoration-color: #00d7ff\">None</span>, <span style=\"color: #00af00; text-decoration-color: #00af00\">112</span>, <span style=\"color: #00af00; text-decoration-color: #00af00\">112</span>, <span style=\"color: #00af00; text-decoration-color: #00af00\">64</span>)   │             <span style=\"color: #00af00; text-decoration-color: #00af00\">0</span> │\n",
              "├─────────────────────────────────┼────────────────────────┼───────────────┤\n",
              "│ block2_conv1 (<span style=\"color: #0087ff; text-decoration-color: #0087ff\">Conv2D</span>)           │ (<span style=\"color: #00d7ff; text-decoration-color: #00d7ff\">None</span>, <span style=\"color: #00af00; text-decoration-color: #00af00\">112</span>, <span style=\"color: #00af00; text-decoration-color: #00af00\">112</span>, <span style=\"color: #00af00; text-decoration-color: #00af00\">128</span>)  │        <span style=\"color: #00af00; text-decoration-color: #00af00\">73,856</span> │\n",
              "├─────────────────────────────────┼────────────────────────┼───────────────┤\n",
              "│ block2_conv2 (<span style=\"color: #0087ff; text-decoration-color: #0087ff\">Conv2D</span>)           │ (<span style=\"color: #00d7ff; text-decoration-color: #00d7ff\">None</span>, <span style=\"color: #00af00; text-decoration-color: #00af00\">112</span>, <span style=\"color: #00af00; text-decoration-color: #00af00\">112</span>, <span style=\"color: #00af00; text-decoration-color: #00af00\">128</span>)  │       <span style=\"color: #00af00; text-decoration-color: #00af00\">147,584</span> │\n",
              "├─────────────────────────────────┼────────────────────────┼───────────────┤\n",
              "│ block2_pool (<span style=\"color: #0087ff; text-decoration-color: #0087ff\">MaxPooling2D</span>)      │ (<span style=\"color: #00d7ff; text-decoration-color: #00d7ff\">None</span>, <span style=\"color: #00af00; text-decoration-color: #00af00\">56</span>, <span style=\"color: #00af00; text-decoration-color: #00af00\">56</span>, <span style=\"color: #00af00; text-decoration-color: #00af00\">128</span>)    │             <span style=\"color: #00af00; text-decoration-color: #00af00\">0</span> │\n",
              "├─────────────────────────────────┼────────────────────────┼───────────────┤\n",
              "│ block3_conv1 (<span style=\"color: #0087ff; text-decoration-color: #0087ff\">Conv2D</span>)           │ (<span style=\"color: #00d7ff; text-decoration-color: #00d7ff\">None</span>, <span style=\"color: #00af00; text-decoration-color: #00af00\">56</span>, <span style=\"color: #00af00; text-decoration-color: #00af00\">56</span>, <span style=\"color: #00af00; text-decoration-color: #00af00\">256</span>)    │       <span style=\"color: #00af00; text-decoration-color: #00af00\">295,168</span> │\n",
              "├─────────────────────────────────┼────────────────────────┼───────────────┤\n",
              "│ block3_conv2 (<span style=\"color: #0087ff; text-decoration-color: #0087ff\">Conv2D</span>)           │ (<span style=\"color: #00d7ff; text-decoration-color: #00d7ff\">None</span>, <span style=\"color: #00af00; text-decoration-color: #00af00\">56</span>, <span style=\"color: #00af00; text-decoration-color: #00af00\">56</span>, <span style=\"color: #00af00; text-decoration-color: #00af00\">256</span>)    │       <span style=\"color: #00af00; text-decoration-color: #00af00\">590,080</span> │\n",
              "├─────────────────────────────────┼────────────────────────┼───────────────┤\n",
              "│ block3_conv3 (<span style=\"color: #0087ff; text-decoration-color: #0087ff\">Conv2D</span>)           │ (<span style=\"color: #00d7ff; text-decoration-color: #00d7ff\">None</span>, <span style=\"color: #00af00; text-decoration-color: #00af00\">56</span>, <span style=\"color: #00af00; text-decoration-color: #00af00\">56</span>, <span style=\"color: #00af00; text-decoration-color: #00af00\">256</span>)    │       <span style=\"color: #00af00; text-decoration-color: #00af00\">590,080</span> │\n",
              "├─────────────────────────────────┼────────────────────────┼───────────────┤\n",
              "│ block3_conv4 (<span style=\"color: #0087ff; text-decoration-color: #0087ff\">Conv2D</span>)           │ (<span style=\"color: #00d7ff; text-decoration-color: #00d7ff\">None</span>, <span style=\"color: #00af00; text-decoration-color: #00af00\">56</span>, <span style=\"color: #00af00; text-decoration-color: #00af00\">56</span>, <span style=\"color: #00af00; text-decoration-color: #00af00\">256</span>)    │       <span style=\"color: #00af00; text-decoration-color: #00af00\">590,080</span> │\n",
              "├─────────────────────────────────┼────────────────────────┼───────────────┤\n",
              "│ block3_pool (<span style=\"color: #0087ff; text-decoration-color: #0087ff\">MaxPooling2D</span>)      │ (<span style=\"color: #00d7ff; text-decoration-color: #00d7ff\">None</span>, <span style=\"color: #00af00; text-decoration-color: #00af00\">28</span>, <span style=\"color: #00af00; text-decoration-color: #00af00\">28</span>, <span style=\"color: #00af00; text-decoration-color: #00af00\">256</span>)    │             <span style=\"color: #00af00; text-decoration-color: #00af00\">0</span> │\n",
              "├─────────────────────────────────┼────────────────────────┼───────────────┤\n",
              "│ block4_conv1 (<span style=\"color: #0087ff; text-decoration-color: #0087ff\">Conv2D</span>)           │ (<span style=\"color: #00d7ff; text-decoration-color: #00d7ff\">None</span>, <span style=\"color: #00af00; text-decoration-color: #00af00\">28</span>, <span style=\"color: #00af00; text-decoration-color: #00af00\">28</span>, <span style=\"color: #00af00; text-decoration-color: #00af00\">512</span>)    │     <span style=\"color: #00af00; text-decoration-color: #00af00\">1,180,160</span> │\n",
              "├─────────────────────────────────┼────────────────────────┼───────────────┤\n",
              "│ block4_conv2 (<span style=\"color: #0087ff; text-decoration-color: #0087ff\">Conv2D</span>)           │ (<span style=\"color: #00d7ff; text-decoration-color: #00d7ff\">None</span>, <span style=\"color: #00af00; text-decoration-color: #00af00\">28</span>, <span style=\"color: #00af00; text-decoration-color: #00af00\">28</span>, <span style=\"color: #00af00; text-decoration-color: #00af00\">512</span>)    │     <span style=\"color: #00af00; text-decoration-color: #00af00\">2,359,808</span> │\n",
              "├─────────────────────────────────┼────────────────────────┼───────────────┤\n",
              "│ block4_conv3 (<span style=\"color: #0087ff; text-decoration-color: #0087ff\">Conv2D</span>)           │ (<span style=\"color: #00d7ff; text-decoration-color: #00d7ff\">None</span>, <span style=\"color: #00af00; text-decoration-color: #00af00\">28</span>, <span style=\"color: #00af00; text-decoration-color: #00af00\">28</span>, <span style=\"color: #00af00; text-decoration-color: #00af00\">512</span>)    │     <span style=\"color: #00af00; text-decoration-color: #00af00\">2,359,808</span> │\n",
              "├─────────────────────────────────┼────────────────────────┼───────────────┤\n",
              "│ block4_conv4 (<span style=\"color: #0087ff; text-decoration-color: #0087ff\">Conv2D</span>)           │ (<span style=\"color: #00d7ff; text-decoration-color: #00d7ff\">None</span>, <span style=\"color: #00af00; text-decoration-color: #00af00\">28</span>, <span style=\"color: #00af00; text-decoration-color: #00af00\">28</span>, <span style=\"color: #00af00; text-decoration-color: #00af00\">512</span>)    │     <span style=\"color: #00af00; text-decoration-color: #00af00\">2,359,808</span> │\n",
              "├─────────────────────────────────┼────────────────────────┼───────────────┤\n",
              "│ block4_pool (<span style=\"color: #0087ff; text-decoration-color: #0087ff\">MaxPooling2D</span>)      │ (<span style=\"color: #00d7ff; text-decoration-color: #00d7ff\">None</span>, <span style=\"color: #00af00; text-decoration-color: #00af00\">14</span>, <span style=\"color: #00af00; text-decoration-color: #00af00\">14</span>, <span style=\"color: #00af00; text-decoration-color: #00af00\">512</span>)    │             <span style=\"color: #00af00; text-decoration-color: #00af00\">0</span> │\n",
              "├─────────────────────────────────┼────────────────────────┼───────────────┤\n",
              "│ block5_conv1 (<span style=\"color: #0087ff; text-decoration-color: #0087ff\">Conv2D</span>)           │ (<span style=\"color: #00d7ff; text-decoration-color: #00d7ff\">None</span>, <span style=\"color: #00af00; text-decoration-color: #00af00\">14</span>, <span style=\"color: #00af00; text-decoration-color: #00af00\">14</span>, <span style=\"color: #00af00; text-decoration-color: #00af00\">512</span>)    │     <span style=\"color: #00af00; text-decoration-color: #00af00\">2,359,808</span> │\n",
              "├─────────────────────────────────┼────────────────────────┼───────────────┤\n",
              "│ block5_conv2 (<span style=\"color: #0087ff; text-decoration-color: #0087ff\">Conv2D</span>)           │ (<span style=\"color: #00d7ff; text-decoration-color: #00d7ff\">None</span>, <span style=\"color: #00af00; text-decoration-color: #00af00\">14</span>, <span style=\"color: #00af00; text-decoration-color: #00af00\">14</span>, <span style=\"color: #00af00; text-decoration-color: #00af00\">512</span>)    │     <span style=\"color: #00af00; text-decoration-color: #00af00\">2,359,808</span> │\n",
              "├─────────────────────────────────┼────────────────────────┼───────────────┤\n",
              "│ block5_conv3 (<span style=\"color: #0087ff; text-decoration-color: #0087ff\">Conv2D</span>)           │ (<span style=\"color: #00d7ff; text-decoration-color: #00d7ff\">None</span>, <span style=\"color: #00af00; text-decoration-color: #00af00\">14</span>, <span style=\"color: #00af00; text-decoration-color: #00af00\">14</span>, <span style=\"color: #00af00; text-decoration-color: #00af00\">512</span>)    │     <span style=\"color: #00af00; text-decoration-color: #00af00\">2,359,808</span> │\n",
              "├─────────────────────────────────┼────────────────────────┼───────────────┤\n",
              "│ block5_conv4 (<span style=\"color: #0087ff; text-decoration-color: #0087ff\">Conv2D</span>)           │ (<span style=\"color: #00d7ff; text-decoration-color: #00d7ff\">None</span>, <span style=\"color: #00af00; text-decoration-color: #00af00\">14</span>, <span style=\"color: #00af00; text-decoration-color: #00af00\">14</span>, <span style=\"color: #00af00; text-decoration-color: #00af00\">512</span>)    │     <span style=\"color: #00af00; text-decoration-color: #00af00\">2,359,808</span> │\n",
              "├─────────────────────────────────┼────────────────────────┼───────────────┤\n",
              "│ block5_pool (<span style=\"color: #0087ff; text-decoration-color: #0087ff\">MaxPooling2D</span>)      │ (<span style=\"color: #00d7ff; text-decoration-color: #00d7ff\">None</span>, <span style=\"color: #00af00; text-decoration-color: #00af00\">7</span>, <span style=\"color: #00af00; text-decoration-color: #00af00\">7</span>, <span style=\"color: #00af00; text-decoration-color: #00af00\">512</span>)      │             <span style=\"color: #00af00; text-decoration-color: #00af00\">0</span> │\n",
              "├─────────────────────────────────┼────────────────────────┼───────────────┤\n",
              "│ global_average_pooling2d_1      │ (<span style=\"color: #00d7ff; text-decoration-color: #00d7ff\">None</span>, <span style=\"color: #00af00; text-decoration-color: #00af00\">512</span>)            │             <span style=\"color: #00af00; text-decoration-color: #00af00\">0</span> │\n",
              "│ (<span style=\"color: #0087ff; text-decoration-color: #0087ff\">GlobalAveragePooling2D</span>)        │                        │               │\n",
              "├─────────────────────────────────┼────────────────────────┼───────────────┤\n",
              "│ dense_2 (<span style=\"color: #0087ff; text-decoration-color: #0087ff\">Dense</span>)                 │ (<span style=\"color: #00d7ff; text-decoration-color: #00d7ff\">None</span>, <span style=\"color: #00af00; text-decoration-color: #00af00\">256</span>)            │       <span style=\"color: #00af00; text-decoration-color: #00af00\">131,328</span> │\n",
              "├─────────────────────────────────┼────────────────────────┼───────────────┤\n",
              "│ dropout_1 (<span style=\"color: #0087ff; text-decoration-color: #0087ff\">Dropout</span>)             │ (<span style=\"color: #00d7ff; text-decoration-color: #00d7ff\">None</span>, <span style=\"color: #00af00; text-decoration-color: #00af00\">256</span>)            │             <span style=\"color: #00af00; text-decoration-color: #00af00\">0</span> │\n",
              "├─────────────────────────────────┼────────────────────────┼───────────────┤\n",
              "│ dense_3 (<span style=\"color: #0087ff; text-decoration-color: #0087ff\">Dense</span>)                 │ (<span style=\"color: #00d7ff; text-decoration-color: #00d7ff\">None</span>, <span style=\"color: #00af00; text-decoration-color: #00af00\">1</span>)              │           <span style=\"color: #00af00; text-decoration-color: #00af00\">257</span> │\n",
              "└─────────────────────────────────┴────────────────────────┴───────────────┘\n",
              "</pre>\n"
            ],
            "text/plain": [
              "┏━━━━━━━━━━━━━━━━━━━━━━━━━━━━━━━━━┳━━━━━━━━━━━━━━━━━━━━━━━━┳━━━━━━━━━━━━━━━┓\n",
              "┃\u001b[1m \u001b[0m\u001b[1mLayer (type)                   \u001b[0m\u001b[1m \u001b[0m┃\u001b[1m \u001b[0m\u001b[1mOutput Shape          \u001b[0m\u001b[1m \u001b[0m┃\u001b[1m \u001b[0m\u001b[1m      Param #\u001b[0m\u001b[1m \u001b[0m┃\n",
              "┡━━━━━━━━━━━━━━━━━━━━━━━━━━━━━━━━━╇━━━━━━━━━━━━━━━━━━━━━━━━╇━━━━━━━━━━━━━━━┩\n",
              "│ input_layer_1 (\u001b[38;5;33mInputLayer\u001b[0m)      │ (\u001b[38;5;45mNone\u001b[0m, \u001b[38;5;34m224\u001b[0m, \u001b[38;5;34m224\u001b[0m, \u001b[38;5;34m3\u001b[0m)    │             \u001b[38;5;34m0\u001b[0m │\n",
              "├─────────────────────────────────┼────────────────────────┼───────────────┤\n",
              "│ block1_conv1 (\u001b[38;5;33mConv2D\u001b[0m)           │ (\u001b[38;5;45mNone\u001b[0m, \u001b[38;5;34m224\u001b[0m, \u001b[38;5;34m224\u001b[0m, \u001b[38;5;34m64\u001b[0m)   │         \u001b[38;5;34m1,792\u001b[0m │\n",
              "├─────────────────────────────────┼────────────────────────┼───────────────┤\n",
              "│ block1_conv2 (\u001b[38;5;33mConv2D\u001b[0m)           │ (\u001b[38;5;45mNone\u001b[0m, \u001b[38;5;34m224\u001b[0m, \u001b[38;5;34m224\u001b[0m, \u001b[38;5;34m64\u001b[0m)   │        \u001b[38;5;34m36,928\u001b[0m │\n",
              "├─────────────────────────────────┼────────────────────────┼───────────────┤\n",
              "│ block1_pool (\u001b[38;5;33mMaxPooling2D\u001b[0m)      │ (\u001b[38;5;45mNone\u001b[0m, \u001b[38;5;34m112\u001b[0m, \u001b[38;5;34m112\u001b[0m, \u001b[38;5;34m64\u001b[0m)   │             \u001b[38;5;34m0\u001b[0m │\n",
              "├─────────────────────────────────┼────────────────────────┼───────────────┤\n",
              "│ block2_conv1 (\u001b[38;5;33mConv2D\u001b[0m)           │ (\u001b[38;5;45mNone\u001b[0m, \u001b[38;5;34m112\u001b[0m, \u001b[38;5;34m112\u001b[0m, \u001b[38;5;34m128\u001b[0m)  │        \u001b[38;5;34m73,856\u001b[0m │\n",
              "├─────────────────────────────────┼────────────────────────┼───────────────┤\n",
              "│ block2_conv2 (\u001b[38;5;33mConv2D\u001b[0m)           │ (\u001b[38;5;45mNone\u001b[0m, \u001b[38;5;34m112\u001b[0m, \u001b[38;5;34m112\u001b[0m, \u001b[38;5;34m128\u001b[0m)  │       \u001b[38;5;34m147,584\u001b[0m │\n",
              "├─────────────────────────────────┼────────────────────────┼───────────────┤\n",
              "│ block2_pool (\u001b[38;5;33mMaxPooling2D\u001b[0m)      │ (\u001b[38;5;45mNone\u001b[0m, \u001b[38;5;34m56\u001b[0m, \u001b[38;5;34m56\u001b[0m, \u001b[38;5;34m128\u001b[0m)    │             \u001b[38;5;34m0\u001b[0m │\n",
              "├─────────────────────────────────┼────────────────────────┼───────────────┤\n",
              "│ block3_conv1 (\u001b[38;5;33mConv2D\u001b[0m)           │ (\u001b[38;5;45mNone\u001b[0m, \u001b[38;5;34m56\u001b[0m, \u001b[38;5;34m56\u001b[0m, \u001b[38;5;34m256\u001b[0m)    │       \u001b[38;5;34m295,168\u001b[0m │\n",
              "├─────────────────────────────────┼────────────────────────┼───────────────┤\n",
              "│ block3_conv2 (\u001b[38;5;33mConv2D\u001b[0m)           │ (\u001b[38;5;45mNone\u001b[0m, \u001b[38;5;34m56\u001b[0m, \u001b[38;5;34m56\u001b[0m, \u001b[38;5;34m256\u001b[0m)    │       \u001b[38;5;34m590,080\u001b[0m │\n",
              "├─────────────────────────────────┼────────────────────────┼───────────────┤\n",
              "│ block3_conv3 (\u001b[38;5;33mConv2D\u001b[0m)           │ (\u001b[38;5;45mNone\u001b[0m, \u001b[38;5;34m56\u001b[0m, \u001b[38;5;34m56\u001b[0m, \u001b[38;5;34m256\u001b[0m)    │       \u001b[38;5;34m590,080\u001b[0m │\n",
              "├─────────────────────────────────┼────────────────────────┼───────────────┤\n",
              "│ block3_conv4 (\u001b[38;5;33mConv2D\u001b[0m)           │ (\u001b[38;5;45mNone\u001b[0m, \u001b[38;5;34m56\u001b[0m, \u001b[38;5;34m56\u001b[0m, \u001b[38;5;34m256\u001b[0m)    │       \u001b[38;5;34m590,080\u001b[0m │\n",
              "├─────────────────────────────────┼────────────────────────┼───────────────┤\n",
              "│ block3_pool (\u001b[38;5;33mMaxPooling2D\u001b[0m)      │ (\u001b[38;5;45mNone\u001b[0m, \u001b[38;5;34m28\u001b[0m, \u001b[38;5;34m28\u001b[0m, \u001b[38;5;34m256\u001b[0m)    │             \u001b[38;5;34m0\u001b[0m │\n",
              "├─────────────────────────────────┼────────────────────────┼───────────────┤\n",
              "│ block4_conv1 (\u001b[38;5;33mConv2D\u001b[0m)           │ (\u001b[38;5;45mNone\u001b[0m, \u001b[38;5;34m28\u001b[0m, \u001b[38;5;34m28\u001b[0m, \u001b[38;5;34m512\u001b[0m)    │     \u001b[38;5;34m1,180,160\u001b[0m │\n",
              "├─────────────────────────────────┼────────────────────────┼───────────────┤\n",
              "│ block4_conv2 (\u001b[38;5;33mConv2D\u001b[0m)           │ (\u001b[38;5;45mNone\u001b[0m, \u001b[38;5;34m28\u001b[0m, \u001b[38;5;34m28\u001b[0m, \u001b[38;5;34m512\u001b[0m)    │     \u001b[38;5;34m2,359,808\u001b[0m │\n",
              "├─────────────────────────────────┼────────────────────────┼───────────────┤\n",
              "│ block4_conv3 (\u001b[38;5;33mConv2D\u001b[0m)           │ (\u001b[38;5;45mNone\u001b[0m, \u001b[38;5;34m28\u001b[0m, \u001b[38;5;34m28\u001b[0m, \u001b[38;5;34m512\u001b[0m)    │     \u001b[38;5;34m2,359,808\u001b[0m │\n",
              "├─────────────────────────────────┼────────────────────────┼───────────────┤\n",
              "│ block4_conv4 (\u001b[38;5;33mConv2D\u001b[0m)           │ (\u001b[38;5;45mNone\u001b[0m, \u001b[38;5;34m28\u001b[0m, \u001b[38;5;34m28\u001b[0m, \u001b[38;5;34m512\u001b[0m)    │     \u001b[38;5;34m2,359,808\u001b[0m │\n",
              "├─────────────────────────────────┼────────────────────────┼───────────────┤\n",
              "│ block4_pool (\u001b[38;5;33mMaxPooling2D\u001b[0m)      │ (\u001b[38;5;45mNone\u001b[0m, \u001b[38;5;34m14\u001b[0m, \u001b[38;5;34m14\u001b[0m, \u001b[38;5;34m512\u001b[0m)    │             \u001b[38;5;34m0\u001b[0m │\n",
              "├─────────────────────────────────┼────────────────────────┼───────────────┤\n",
              "│ block5_conv1 (\u001b[38;5;33mConv2D\u001b[0m)           │ (\u001b[38;5;45mNone\u001b[0m, \u001b[38;5;34m14\u001b[0m, \u001b[38;5;34m14\u001b[0m, \u001b[38;5;34m512\u001b[0m)    │     \u001b[38;5;34m2,359,808\u001b[0m │\n",
              "├─────────────────────────────────┼────────────────────────┼───────────────┤\n",
              "│ block5_conv2 (\u001b[38;5;33mConv2D\u001b[0m)           │ (\u001b[38;5;45mNone\u001b[0m, \u001b[38;5;34m14\u001b[0m, \u001b[38;5;34m14\u001b[0m, \u001b[38;5;34m512\u001b[0m)    │     \u001b[38;5;34m2,359,808\u001b[0m │\n",
              "├─────────────────────────────────┼────────────────────────┼───────────────┤\n",
              "│ block5_conv3 (\u001b[38;5;33mConv2D\u001b[0m)           │ (\u001b[38;5;45mNone\u001b[0m, \u001b[38;5;34m14\u001b[0m, \u001b[38;5;34m14\u001b[0m, \u001b[38;5;34m512\u001b[0m)    │     \u001b[38;5;34m2,359,808\u001b[0m │\n",
              "├─────────────────────────────────┼────────────────────────┼───────────────┤\n",
              "│ block5_conv4 (\u001b[38;5;33mConv2D\u001b[0m)           │ (\u001b[38;5;45mNone\u001b[0m, \u001b[38;5;34m14\u001b[0m, \u001b[38;5;34m14\u001b[0m, \u001b[38;5;34m512\u001b[0m)    │     \u001b[38;5;34m2,359,808\u001b[0m │\n",
              "├─────────────────────────────────┼────────────────────────┼───────────────┤\n",
              "│ block5_pool (\u001b[38;5;33mMaxPooling2D\u001b[0m)      │ (\u001b[38;5;45mNone\u001b[0m, \u001b[38;5;34m7\u001b[0m, \u001b[38;5;34m7\u001b[0m, \u001b[38;5;34m512\u001b[0m)      │             \u001b[38;5;34m0\u001b[0m │\n",
              "├─────────────────────────────────┼────────────────────────┼───────────────┤\n",
              "│ global_average_pooling2d_1      │ (\u001b[38;5;45mNone\u001b[0m, \u001b[38;5;34m512\u001b[0m)            │             \u001b[38;5;34m0\u001b[0m │\n",
              "│ (\u001b[38;5;33mGlobalAveragePooling2D\u001b[0m)        │                        │               │\n",
              "├─────────────────────────────────┼────────────────────────┼───────────────┤\n",
              "│ dense_2 (\u001b[38;5;33mDense\u001b[0m)                 │ (\u001b[38;5;45mNone\u001b[0m, \u001b[38;5;34m256\u001b[0m)            │       \u001b[38;5;34m131,328\u001b[0m │\n",
              "├─────────────────────────────────┼────────────────────────┼───────────────┤\n",
              "│ dropout_1 (\u001b[38;5;33mDropout\u001b[0m)             │ (\u001b[38;5;45mNone\u001b[0m, \u001b[38;5;34m256\u001b[0m)            │             \u001b[38;5;34m0\u001b[0m │\n",
              "├─────────────────────────────────┼────────────────────────┼───────────────┤\n",
              "│ dense_3 (\u001b[38;5;33mDense\u001b[0m)                 │ (\u001b[38;5;45mNone\u001b[0m, \u001b[38;5;34m1\u001b[0m)              │           \u001b[38;5;34m257\u001b[0m │\n",
              "└─────────────────────────────────┴────────────────────────┴───────────────┘\n"
            ]
          },
          "metadata": {},
          "output_type": "display_data"
        },
        {
          "data": {
            "text/html": [
              "<pre style=\"white-space:pre;overflow-x:auto;line-height:normal;font-family:Menlo,'DejaVu Sans Mono',consolas,'Courier New',monospace\"><span style=\"font-weight: bold\"> Total params: </span><span style=\"color: #00af00; text-decoration-color: #00af00\">20,155,969</span> (76.89 MB)\n",
              "</pre>\n"
            ],
            "text/plain": [
              "\u001b[1m Total params: \u001b[0m\u001b[38;5;34m20,155,969\u001b[0m (76.89 MB)\n"
            ]
          },
          "metadata": {},
          "output_type": "display_data"
        },
        {
          "data": {
            "text/html": [
              "<pre style=\"white-space:pre;overflow-x:auto;line-height:normal;font-family:Menlo,'DejaVu Sans Mono',consolas,'Courier New',monospace\"><span style=\"font-weight: bold\"> Trainable params: </span><span style=\"color: #00af00; text-decoration-color: #00af00\">131,585</span> (514.00 KB)\n",
              "</pre>\n"
            ],
            "text/plain": [
              "\u001b[1m Trainable params: \u001b[0m\u001b[38;5;34m131,585\u001b[0m (514.00 KB)\n"
            ]
          },
          "metadata": {},
          "output_type": "display_data"
        },
        {
          "data": {
            "text/html": [
              "<pre style=\"white-space:pre;overflow-x:auto;line-height:normal;font-family:Menlo,'DejaVu Sans Mono',consolas,'Courier New',monospace\"><span style=\"font-weight: bold\"> Non-trainable params: </span><span style=\"color: #00af00; text-decoration-color: #00af00\">20,024,384</span> (76.39 MB)\n",
              "</pre>\n"
            ],
            "text/plain": [
              "\u001b[1m Non-trainable params: \u001b[0m\u001b[38;5;34m20,024,384\u001b[0m (76.39 MB)\n"
            ]
          },
          "metadata": {},
          "output_type": "display_data"
        },
        {
          "name": "stdout",
          "output_type": "stream",
          "text": [
            "=== PHASE 1: TRANSFER LEARNING (couches gelées) ===\n",
            "Modèle compilé !\n"
          ]
        }
      ],
      "source": [
        "# Création du modèle CNN avec VGG19 pré-entraîné\n",
        "base_model = tf.keras.applications.VGG19(weights='imagenet', include_top=False, input_shape=params['input_shape'])\n",
        "# Gel des couches du modèle de base\n",
        "base_model.trainable = False\n",
        "\n",
        "# Affichage de l'architecture du modèle de base\n",
        "print(f\"Nombre de couches: {len(base_model.layers)}\")\n",
        "print(f\"Forme de sortie: {base_model.output_shape}\")\n",
        "print(f\"Couches gelées: {not base_model.trainable}\")\n",
        "\n",
        "# Construction du modèle complet\n",
        "print(\"Construction de l'architecture complète...\")\n",
        "\n",
        "# Ajouter nouvelle couche de classification\n",
        "x = base_model.output \n",
        "x = tf.keras.layers.GlobalAveragePooling2D()(x) # Pooling global pour réduire les dimensions\n",
        "x = tf.keras.layers.Dense(256, activation='relu')(x)  # Couche dense avec 256 neurones et activation ReLU\n",
        "x = tf.keras.layers.Dropout(0.2)(x) # Couche de dropout pour la régularisation\n",
        "outputs = tf.keras.layers.Dense(1, activation='sigmoid')(x) # Couche de classification finale\n",
        "\n",
        "# Création du modèle final\n",
        "model = tf.keras.Model(inputs=base_model.input, outputs=outputs)\n",
        "\n",
        "print(\"Modèle créé avec succès !\")\n",
        "\n",
        "# Affichage de l'architecture du modèle\n",
        "print(\" Architecture du modèle:\")\n",
        "model.summary()\n",
        "\n",
        "# Configuration de l'optimiseur et des métriques\n",
        "print(\"=== PHASE 1: TRANSFER LEARNING (couches gelées) ===\")\n",
        "\n",
        "# Compilation du modèle\n",
        "model.compile(\n",
        "    optimizer=Adam(learning_rate=params['learning_rate']),  # Utilisation de l'optimiseur Adam avec un taux d'apprentissage réduit\n",
        "    loss='binary_crossentropy',  # Utilisation de 'binary_crossentropy' pour la classification binaire\n",
        "    metrics=['accuracy', 'Precision', 'Recall']  # Ajout de métriques supplémentaires\n",
        ")\n",
        "\n",
        "print(\"Modèle compilé !\")"
      ]
    },
    {
      "cell_type": "markdown",
      "id": "9fda4b43",
      "metadata": {
        "id": "9fda4b43"
      },
      "source": [
        "## 4.2-Entrainement du modele"
      ]
    },
    {
      "cell_type": "code",
      "execution_count": null,
      "id": "d2e98f1b",
      "metadata": {
        "colab": {
          "base_uri": "https://localhost:8080/"
        },
        "id": "d2e98f1b",
        "outputId": "2a297085-38b8-4c73-fe56-22cd8aac07fd"
      },
      "outputs": [
        {
          "name": "stdout",
          "output_type": "stream",
          "text": [
            "=== Début de l'entraînement ===\n",
            "Epoch 1/20\n",
            "\u001b[1m279/279\u001b[0m \u001b[32m━━━━━━━━━━━━━━━━━━━━\u001b[0m\u001b[37m\u001b[0m \u001b[1m0s\u001b[0m 3s/step - Precision: 0.9459 - Recall: 0.9195 - accuracy: 0.9392 - loss: 0.3305\n",
            "Epoch 1: loss improved from inf to 0.18418, saving model to model_cnn_US1_v2.keras\n",
            "\u001b[1m279/279\u001b[0m \u001b[32m━━━━━━━━━━━━━━━━━━━━\u001b[0m\u001b[37m\u001b[0m \u001b[1m970s\u001b[0m 3s/step - Precision: 0.9461 - Recall: 0.9197 - accuracy: 0.9394 - loss: 0.3299 - val_Precision: 0.7205 - val_Recall: 1.0000 - val_accuracy: 0.7205 - val_loss: 1.1859\n",
            "Epoch 2/20\n",
            "\u001b[1m279/279\u001b[0m \u001b[32m━━━━━━━━━━━━━━━━━━━━\u001b[0m\u001b[37m\u001b[0m \u001b[1m0s\u001b[0m 3s/step - Precision: 1.0000 - Recall: 0.9999 - accuracy: 1.0000 - loss: 0.0308\n",
            "Epoch 2: loss improved from 0.18418 to 0.02352, saving model to model_cnn_US1_v2.keras\n",
            "\u001b[1m279/279\u001b[0m \u001b[32m━━━━━━━━━━━━━━━━━━━━\u001b[0m\u001b[37m\u001b[0m \u001b[1m958s\u001b[0m 3s/step - Precision: 1.0000 - Recall: 0.9999 - accuracy: 1.0000 - loss: 0.0307 - val_Precision: 0.7205 - val_Recall: 1.0000 - val_accuracy: 0.7205 - val_loss: 1.6287\n",
            "Epoch 3/20\n",
            "\u001b[1m279/279\u001b[0m \u001b[32m━━━━━━━━━━━━━━━━━━━━\u001b[0m\u001b[37m\u001b[0m \u001b[1m0s\u001b[0m 3s/step - Precision: 1.0000 - Recall: 1.0000 - accuracy: 1.0000 - loss: 0.0110\n",
            "Epoch 3: loss improved from 0.02352 to 0.00917, saving model to model_cnn_US1_v2.keras\n",
            "\u001b[1m279/279\u001b[0m \u001b[32m━━━━━━━━━━━━━━━━━━━━\u001b[0m\u001b[37m\u001b[0m \u001b[1m969s\u001b[0m 3s/step - Precision: 1.0000 - Recall: 1.0000 - accuracy: 1.0000 - loss: 0.0109 - val_Precision: 0.7205 - val_Recall: 1.0000 - val_accuracy: 0.7205 - val_loss: 1.9495\n",
            "Epoch 4/20\n",
            "\u001b[1m279/279\u001b[0m \u001b[32m━━━━━━━━━━━━━━━━━━━━\u001b[0m\u001b[37m\u001b[0m \u001b[1m0s\u001b[0m 3s/step - Precision: 1.0000 - Recall: 0.9997 - accuracy: 0.9999 - loss: 0.0052\n",
            "Epoch 4: loss improved from 0.00917 to 0.00471, saving model to model_cnn_US1_v2.keras\n",
            "\u001b[1m279/279\u001b[0m \u001b[32m━━━━━━━━━━━━━━━━━━━━\u001b[0m\u001b[37m\u001b[0m \u001b[1m959s\u001b[0m 3s/step - Precision: 1.0000 - Recall: 0.9997 - accuracy: 0.9999 - loss: 0.0052 - val_Precision: 0.7205 - val_Recall: 1.0000 - val_accuracy: 0.7205 - val_loss: 2.1925\n",
            "Epoch 5/20\n",
            "\u001b[1m279/279\u001b[0m \u001b[32m━━━━━━━━━━━━━━━━━━━━\u001b[0m\u001b[37m\u001b[0m \u001b[1m0s\u001b[0m 3s/step - Precision: 1.0000 - Recall: 1.0000 - accuracy: 1.0000 - loss: 0.0034\n",
            "Epoch 5: loss improved from 0.00471 to 0.00307, saving model to model_cnn_US1_v2.keras\n",
            "\u001b[1m279/279\u001b[0m \u001b[32m━━━━━━━━━━━━━━━━━━━━\u001b[0m\u001b[37m\u001b[0m \u001b[1m965s\u001b[0m 3s/step - Precision: 1.0000 - Recall: 1.0000 - accuracy: 1.0000 - loss: 0.0034 - val_Precision: 0.7205 - val_Recall: 1.0000 - val_accuracy: 0.7205 - val_loss: 2.4153\n",
            "Epoch 6/20\n",
            "\u001b[1m279/279\u001b[0m \u001b[32m━━━━━━━━━━━━━━━━━━━━\u001b[0m\u001b[37m\u001b[0m \u001b[1m0s\u001b[0m 3s/step - Precision: 1.0000 - Recall: 0.9993 - accuracy: 0.9997 - loss: 0.0026\n",
            "Epoch 6: loss improved from 0.00307 to 0.00216, saving model to model_cnn_US1_v2.keras\n",
            "\u001b[1m279/279\u001b[0m \u001b[32m━━━━━━━━━━━━━━━━━━━━\u001b[0m\u001b[37m\u001b[0m \u001b[1m964s\u001b[0m 3s/step - Precision: 1.0000 - Recall: 0.9993 - accuracy: 0.9997 - loss: 0.0026 - val_Precision: 0.7205 - val_Recall: 1.0000 - val_accuracy: 0.7205 - val_loss: 2.5457\n",
            "Epoch 7/20\n",
            "\u001b[1m279/279\u001b[0m \u001b[32m━━━━━━━━━━━━━━━━━━━━\u001b[0m\u001b[37m\u001b[0m \u001b[1m0s\u001b[0m 3s/step - Precision: 1.0000 - Recall: 0.9999 - accuracy: 0.9999 - loss: 0.0014\n",
            "Epoch 7: loss improved from 0.00216 to 0.00142, saving model to model_cnn_US1_v2.keras\n",
            "\u001b[1m279/279\u001b[0m \u001b[32m━━━━━━━━━━━━━━━━━━━━\u001b[0m\u001b[37m\u001b[0m \u001b[1m962s\u001b[0m 3s/step - Precision: 1.0000 - Recall: 0.9999 - accuracy: 0.9999 - loss: 0.0014 - val_Precision: 0.7205 - val_Recall: 1.0000 - val_accuracy: 0.7205 - val_loss: 2.7372\n",
            "Epoch 8/20\n",
            "\u001b[1m224/279\u001b[0m \u001b[32m━━━━━━━━━━━━━━━━\u001b[0m\u001b[37m━━━━\u001b[0m \u001b[1m2:41\u001b[0m 3s/step - Precision: 1.0000 - Recall: 0.9993 - accuracy: 0.9997 - loss: 0.0015"
          ]
        }
      ],
      "source": [
        "# Création des callbacks\n",
        "def create_callbacks():\n",
        "    callbacks_list = [\n",
        "\n",
        "        # Sauvegarde du meilleur modèle\n",
        "        callbacks.ModelCheckpoint(\n",
        "            'model_cnn_US1_v2.keras',\n",
        "            monitor='loss',\n",
        "            save_best_only=True,\n",
        "            verbose=1\n",
        "        ),\n",
        "\n",
        "        # Early stopping pour éviter l'overfitting\n",
        "        callbacks.EarlyStopping(\n",
        "            monitor='loss',\n",
        "            patience=3,\n",
        "            restore_best_weights=True,\n",
        "        )\n",
        "    ]\n",
        "    return callbacks_list\n",
        "\n",
        "# Création des callbacks\n",
        "callbacks_list = create_callbacks()\n",
        "\n",
        "# Entraînement du modèle\n",
        "print(\"=== Début de l'entraînement ===\")\n",
        "\n",
        "history = model.fit(\n",
        "    train_augmented_datagen,\n",
        "    validation_data=val_datagen,\n",
        "    epochs=params['epochs'],\n",
        "    callbacks=callbacks_list,\n",
        ")\n",
        "\n",
        "print(\"=== Entraînement terminé ===\")"
      ]
    },
    {
      "cell_type": "code",
      "execution_count": null,
      "id": "RG__h8vfn_mI",
      "metadata": {
        "colab": {
          "base_uri": "https://localhost:8080/"
        },
        "id": "RG__h8vfn_mI",
        "outputId": "0e1b4f41-c7ad-4f68-834d-59ba3ebd9d8e"
      },
      "outputs": [],
      "source": [
        "history.history.keys()"
      ]
    },
    {
      "cell_type": "markdown",
      "id": "58c42165",
      "metadata": {
        "id": "58c42165"
      },
      "source": [
        "## 4.3-Evaluation du modèle"
      ]
    },
    {
      "cell_type": "code",
      "execution_count": null,
      "id": "7yditWA_ni7u",
      "metadata": {
        "colab": {
          "base_uri": "https://localhost:8080/"
        },
        "id": "7yditWA_ni7u",
        "outputId": "fe95f3bc-d595-4fb5-a931-07d0bfd59062"
      },
      "outputs": [],
      "source": [
        "# Evaluation du modèle\n",
        "loss, accuracy, precision, recall = model.evaluate(test_datagen)\n",
        "print(f\"Test Loss: {loss:0.5f}\")\n",
        "print(f\"Test Accuracy: {accuracy:0.5f}\")\n",
        "print(f\"Test Precision: {precision:0.5f}\")\n",
        "print(f\"Test Recall: {recall:0.5f}\")"
      ]
    },
    {
      "cell_type": "markdown",
      "id": "deeb26d8",
      "metadata": {
        "id": "deeb26d8"
      },
      "source": [
        "## 4.4-Visualisation du modèle"
      ]
    },
    {
      "cell_type": "code",
      "execution_count": null,
      "id": "mYTNK1S-EHRF",
      "metadata": {
        "colab": {
          "base_uri": "https://localhost:8080/",
          "height": 564
        },
        "id": "mYTNK1S-EHRF",
        "outputId": "8fce4328-3bce-46a0-918d-b4e30f929393"
      },
      "outputs": [],
      "source": [
        "_, ax = plt.subplots(ncols=2, figsize=(15, 6))\n",
        "\n",
        "# Graphique accuracy training/validation\n",
        "ax[0].plot(history.history['accuracy'])\n",
        "ax[0].plot(history.history['val_accuracy'])\n",
        "ax[0].set_title('Model Accuracy')\n",
        "ax[0].set_xlabel('Epoch')\n",
        "ax[0].set_ylabel('Accuracy')\n",
        "ax[0].legend(['Entrainement', 'Validation'])\n",
        "ax[0].grid(alpha=0.2)\n",
        "\n",
        "# Graphique loss training/validation\n",
        "ax[1].plot(history.history['loss'])\n",
        "ax[1].plot(history.history['val_loss'])\n",
        "ax[1].set_title('Model Loss')\n",
        "ax[1].set_xlabel('Epoch')\n",
        "ax[1].set_ylabel('Loss')\n",
        "ax[1].legend(['Entrainement', 'Validation'])\n",
        "ax[1].grid(alpha=0.2)\n",
        "\n",
        "plt.show()"
      ]
    },
    {
      "cell_type": "code",
      "execution_count": null,
      "id": "WvfeemjSEmZZ",
      "metadata": {
        "colab": {
          "base_uri": "https://localhost:8080/",
          "height": 876
        },
        "id": "WvfeemjSEmZZ",
        "outputId": "4177aee5-9b1d-4065-e03b-5b1691cb997e"
      },
      "outputs": [],
      "source": [
        "def test_model(model, test_datagen):\n",
        "    # Charger les poids du meilleur modèle sauvegardé\n",
        "    model.load_weights('model_cnn_US1_v2.keras')\n",
        "    predictions = model.predict(test_datagen)\n",
        "    predicted_classes = np.argmax(predictions, axis=1)\n",
        "    true_classes = test_datagen.classes\n",
        "    test_acc = 100 * np.sum(predicted_classes == true_classes) / len(true_classes)\n",
        "\n",
        "    print(f\"Test Accuracy: {test_acc:.2f}%\\n\")\n",
        "\n",
        "    print(\"Classification Report:\\n\")\n",
        "    print(classification_report(true_classes, predicted_classes, target_names=binary_class_names))\n",
        "\n",
        "print(\"\\nLoading best model for testing...\")\n",
        "try:\n",
        "    model\n",
        "except NameError:\n",
        "    print(\"Erreur : 'model' n'est pas défini. Veuillez exécuter la cellule où le modèle est créé (cellule 21).\")\n",
        "else:\n",
        "    test_model(model, test_datagen)"
      ]
    },
    {
      "cell_type": "markdown",
      "id": "0964e9f9",
      "metadata": {
        "id": "0964e9f9"
      },
      "source": [
        "# 5-Prédiction"
      ]
    },
    {
      "cell_type": "code",
      "execution_count": null,
      "id": "4twyYHpjFU1i",
      "metadata": {
        "colab": {
          "base_uri": "https://localhost:8080/",
          "height": 1000
        },
        "id": "4twyYHpjFU1i",
        "outputId": "54e32cfe-c43b-48dc-f854-c293b889e714"
      },
      "outputs": [],
      "source": [
        "# Visualisation des prédictions sur un échantillon d'images du dataset de test\n",
        "def multi_to_binary(y_class_pred, positif_classes=['glioma', 'meningioma', 'pituitary']):\n",
        "    return ['Tumeur' if y in positif_classes else 'Sain' for y in y_class_pred]\n",
        "\n",
        "# Prédire les classes sur le jeu de test avec le générateur\n",
        "y_pred_probs = model.predict(test_datagen)\n",
        "y_pred = [binary_class_names[np.argmax(probs)] for probs in y_pred_probs]\n",
        "# Convertir les classes en \"Tumeur\"/\"Sain\"\n",
        "y_binary_pred = multi_to_binary(y_pred)\n",
        "# Convertir les classes en \"Tumeur\"/\"Sain\" pour les labels réels\n",
        "y_true = [binary_class_names[i] for i in test_datagen.classes]\n",
        "y_binary_true = multi_to_binary(y_true)\n",
        "\n",
        "# Definir la fonction predictions\n",
        "def predictions(model, test_generator, num_samples=20, figsize=(20, 20)):\n",
        "    plt.figure(figsize=figsize)\n",
        "    rows = int(np.floor(np.sqrt(num_samples)))\n",
        "    cols = int(np.ceil(num_samples / rows))\n",
        "\n",
        "    # Lot d'images et labels du test generator\n",
        "    images, true_labels_encoded = next(test_generator)\n",
        "    # Convertir les indices en noms de classes\n",
        "    true_class_names = [class_names[np.argmax(label)] for label in true_labels_encoded]\n",
        "    # Convertir en labels binaires\n",
        "    true_labels = multi_to_binary(true_class_names, positif_classes=['glioma', 'meningioma', 'pituitary'])\n",
        "\n",
        "    # Obtenir les predictions du modèle\n",
        "    predictions_encoded = model.predict(images)\n",
        "    pred_class_names = [class_names[np.argmax(pred)] for pred in predictions_encoded]\n",
        "    predicted_labels = multi_to_binary(pred_class_names, positif_classes=['glioma', 'meningioma', 'pituitary'])\n",
        "\n",
        "    batch_len = min(num_samples, len(images), len(true_labels), len(predicted_labels))\n",
        "    for i in range(batch_len):\n",
        "        plt.subplot(rows, cols, i + 1)\n",
        "        # Redimmensionner image pour affichage\n",
        "        image = images[i] / 255.0\n",
        "        plt.imshow(image)\n",
        "        true_label = true_labels[i]\n",
        "        predicted_label = predicted_labels[i]\n",
        "        color = \"green\" if true_label == predicted_label else \"red\"\n",
        "        plt.title(f\"True: {true_label}\\nPred: {predicted_label}\", color=color)\n",
        "        plt.axis(\"off\")\n",
        "\n",
        "    plt.tight_layout()\n",
        "    plt.show()\n",
        "\n",
        "try:\n",
        "    model\n",
        "except NameError:\n",
        "    print(\"Erreur : 'model' n'est pas défini. Veuillez exécuter la cellule où le modèle est créé (cellule 21).\")\n",
        "else:\n",
        "    predictions(model=model,\n",
        "                test_generator=test_datagen,\n",
        "                binary_labels=['Tumeur', 'Sain'],\n",
        "                num_samples=16,\n",
        "                figsize=(10, 10))"
      ]
    }
  ],
  "metadata": {
    "accelerator": "GPU",
    "colab": {
      "gpuType": "T4",
      "provenance": [],
      "toc_visible": true
    },
    "kernelspec": {
      "display_name": ".venv",
      "language": "python",
      "name": "python3"
    },
    "language_info": {
      "codemirror_mode": {
        "name": "ipython",
        "version": 3
      },
      "file_extension": ".py",
      "mimetype": "text/x-python",
      "name": "python",
      "nbconvert_exporter": "python",
      "pygments_lexer": "ipython3",
      "version": "3.11.9"
    }
  },
  "nbformat": 4,
  "nbformat_minor": 5
}
